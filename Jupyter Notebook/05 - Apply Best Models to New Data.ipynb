{
 "cells": [
  {
   "cell_type": "code",
   "execution_count": 1,
   "metadata": {},
   "outputs": [
    {
     "name": "stdout",
     "output_type": "stream",
     "text": [
      "Obtaining file:///C:/Users/meikh/Dropbox/Programming%20Data%20Science/PDS2020_Herber\n",
      "Requirement already satisfied: pandas in c:\\users\\meikh\\miniconda3\\envs\\pds_herber\\lib\\site-packages (from PDS2020-Herber==0.0.1) (1.0.3)\n",
      "Requirement already satisfied: sklearn in c:\\users\\meikh\\miniconda3\\envs\\pds_herber\\lib\\site-packages (from PDS2020-Herber==0.0.1) (0.0)\n",
      "Requirement already satisfied: keras in c:\\users\\meikh\\miniconda3\\envs\\pds_herber\\lib\\site-packages (from PDS2020-Herber==0.0.1) (2.3.1)\n",
      "Requirement already satisfied: click in c:\\users\\meikh\\miniconda3\\envs\\pds_herber\\lib\\site-packages (from PDS2020-Herber==0.0.1) (7.1.2)\n",
      "Requirement already satisfied: python-dateutil>=2.6.1 in c:\\users\\meikh\\miniconda3\\envs\\pds_herber\\lib\\site-packages (from pandas->PDS2020-Herber==0.0.1) (2.8.1)\n",
      "Requirement already satisfied: pytz>=2017.2 in c:\\users\\meikh\\miniconda3\\envs\\pds_herber\\lib\\site-packages (from pandas->PDS2020-Herber==0.0.1) (2020.1)\n",
      "Requirement already satisfied: numpy>=1.13.3 in c:\\users\\meikh\\miniconda3\\envs\\pds_herber\\lib\\site-packages (from pandas->PDS2020-Herber==0.0.1) (1.18.3)\n",
      "Requirement already satisfied: scikit-learn in c:\\users\\meikh\\miniconda3\\envs\\pds_herber\\lib\\site-packages (from sklearn->PDS2020-Herber==0.0.1) (0.22.2.post1)\n",
      "Requirement already satisfied: scipy>=0.14 in c:\\users\\meikh\\miniconda3\\envs\\pds_herber\\lib\\site-packages (from keras->PDS2020-Herber==0.0.1) (1.4.1)\n",
      "Requirement already satisfied: six>=1.9.0 in c:\\users\\meikh\\miniconda3\\envs\\pds_herber\\lib\\site-packages (from keras->PDS2020-Herber==0.0.1) (1.14.0)\n",
      "Requirement already satisfied: pyyaml in c:\\users\\meikh\\miniconda3\\envs\\pds_herber\\lib\\site-packages (from keras->PDS2020-Herber==0.0.1) (5.3.1)\n",
      "Requirement already satisfied: h5py in c:\\users\\meikh\\miniconda3\\envs\\pds_herber\\lib\\site-packages (from keras->PDS2020-Herber==0.0.1) (2.10.0)\n",
      "Requirement already satisfied: keras_applications>=1.0.6 in c:\\users\\meikh\\miniconda3\\envs\\pds_herber\\lib\\site-packages (from keras->PDS2020-Herber==0.0.1) (1.0.8)\n",
      "Requirement already satisfied: keras_preprocessing>=1.0.5 in c:\\users\\meikh\\miniconda3\\envs\\pds_herber\\lib\\site-packages (from keras->PDS2020-Herber==0.0.1) (1.1.0)\n",
      "Requirement already satisfied: joblib>=0.11 in c:\\users\\meikh\\miniconda3\\envs\\pds_herber\\lib\\site-packages (from scikit-learn->sklearn->PDS2020-Herber==0.0.1) (0.14.1)\n",
      "Installing collected packages: PDS2020-Herber\n",
      "  Attempting uninstall: PDS2020-Herber\n",
      "    Found existing installation: PDS2020-Herber 0.0.1\n",
      "    Uninstalling PDS2020-Herber-0.0.1:\n",
      "      Successfully uninstalled PDS2020-Herber-0.0.1\n",
      "  Running setup.py develop for PDS2020-Herber\n",
      "Successfully installed PDS2020-Herber\n"
     ]
    },
    {
     "name": "stderr",
     "output_type": "stream",
     "text": [
      "Using TensorFlow backend.\n"
     ]
    }
   ],
   "source": [
    "!pip install -e ..\n",
    "import nextbike as nb\n",
    "import os\n",
    "from pathlib import Path\n",
    "from sklearn.metrics import mean_squared_error, accuracy_score\n",
    "import warnings\n",
    "warnings.filterwarnings('ignore')"
   ]
  },
  {
   "cell_type": "markdown",
   "metadata": {},
   "source": [
    "# Regression Task"
   ]
  },
  {
   "cell_type": "code",
   "execution_count": 2,
   "metadata": {},
   "outputs": [],
   "source": [
    "# Declare name of the first csv-file\n",
    "csv_name = \"dortmund_test\"\n",
    "# Load dataset\n",
    "path_a = Path(os.getcwd()).parent\n",
    "path=os.path.join(path_a, f'data\\input\\{csv_name}_preprocessed_regression.csv')\n",
    "df = nb.input_output.read_file(path)"
   ]
  },
  {
   "cell_type": "code",
   "execution_count": 3,
   "metadata": {},
   "outputs": [],
   "source": [
    "# Adding missing locations\n",
    "df['p_number_start7313']=0\n",
    "df['p_number_start7332']=0\n",
    "df['p_number_start7721']=0\n",
    "df['p_number_start7722']=0\n",
    "df['p_number_start7723']=0\n",
    "df['p_number_start7724']=0\n",
    "df['p_number_start7725']=0\n",
    "df['p_number_start7726']=0\n",
    "df['p_number_start7727']=0"
   ]
  },
  {
   "cell_type": "markdown",
   "metadata": {},
   "source": [
    "Some locations from the train set are missing in the test set. As they are dummy coded, I can just add them with having the zero as value for all observations."
   ]
  },
  {
   "cell_type": "code",
   "execution_count": 4,
   "metadata": {},
   "outputs": [
    {
     "name": "stdout",
     "output_type": "stream",
     "text": [
      "7828.373970372764\n"
     ]
    }
   ],
   "source": [
    "# Apply Random Forest Regression and calculate MSE\n",
    "y_test = df['duration']\n",
    "y_predict = nb.input_output.read_model('Random_Forest_Regression').predict(df)\n",
    "print(mean_squared_error(y_test, y_predict))"
   ]
  },
  {
   "cell_type": "markdown",
   "metadata": {},
   "source": [
    "While the mean squared error was about 5000 in the test set of the training data, it is here with 7828 by far worse for the Random Forest Regression."
   ]
  },
  {
   "cell_type": "code",
   "execution_count": 5,
   "metadata": {},
   "outputs": [
    {
     "name": "stdout",
     "output_type": "stream",
     "text": [
      "7018.824074794278\n"
     ]
    }
   ],
   "source": [
    "# Calculate MSE for a Null Model\n",
    "df['y_test_mean'] = y_test.mean()\n",
    "print(mean_squared_error(y_test, df['y_test_mean']))"
   ]
  },
  {
   "cell_type": "markdown",
   "metadata": {},
   "source": [
    "By just predicting trip duration with the mean of all durations also shows a higher MSE than in the training data, but is with a value of 7018 by far more useful than the Random Forest Regression. Conversely, this means that the Random Forest Regression is not only useless for this test data, but even misleading."
   ]
  },
  {
   "cell_type": "markdown",
   "metadata": {},
   "source": [
    "# Classification Task"
   ]
  },
  {
   "cell_type": "code",
   "execution_count": 6,
   "metadata": {},
   "outputs": [],
   "source": [
    "# Load dataset\n",
    "path_a = Path(os.getcwd()).parent\n",
    "path=os.path.join(path_a, f'data\\input\\{csv_name}_preprocessed_classification.csv')\n",
    "df = nb.input_output.read_file(path)"
   ]
  },
  {
   "cell_type": "code",
   "execution_count": 7,
   "metadata": {},
   "outputs": [],
   "source": [
    "# Adding missing locations\n",
    "df['p_number_start7313']=0\n",
    "df['p_number_start7332']=0\n",
    "df['p_number_start7721']=0\n",
    "df['p_number_start7722']=0\n",
    "df['p_number_start7723']=0\n",
    "df['p_number_start7724']=0\n",
    "df['p_number_start7725']=0\n",
    "df['p_number_start7726']=0\n",
    "df['p_number_start7727']=0"
   ]
  },
  {
   "cell_type": "code",
   "execution_count": 8,
   "metadata": {},
   "outputs": [
    {
     "name": "stdout",
     "output_type": "stream",
     "text": [
      "0.7280854403384857\n"
     ]
    }
   ],
   "source": [
    "# Apply Random Forest Classification and calculate accuracy\n",
    "y_test = df['towards_uni']\n",
    "y_predict = nb.input_output.read_model('Random_Forest_Classification').predict(df)\n",
    "print(accuracy_score(y_test, y_predict))"
   ]
  },
  {
   "cell_type": "markdown",
   "metadata": {},
   "source": [
    "Compared to the accuracy of the Random Forest Classification in the training data with 77.6%, the accuracy here is just 72.8%."
   ]
  },
  {
   "cell_type": "code",
   "execution_count": 9,
   "metadata": {},
   "outputs": [
    {
     "name": "stdout",
     "output_type": "stream",
     "text": [
      "0.7281195618794145\n"
     ]
    }
   ],
   "source": [
    "# Calculate accuracy for a Null Model\n",
    "df['y_test_mean'] = round(y_test.mean())\n",
    "print(accuracy_score(y_test, df['y_test_mean']))"
   ]
  },
  {
   "cell_type": "markdown",
   "metadata": {},
   "source": [
    "The accuracy of the null model applied to this test data is with 72.8% slightly higher than the one of the Random Forest Classifier."
   ]
  }
 ],
 "metadata": {
  "kernelspec": {
   "display_name": "Python 3",
   "language": "python",
   "name": "python3"
  },
  "language_info": {
   "codemirror_mode": {
    "name": "ipython",
    "version": 3
   },
   "file_extension": ".py",
   "mimetype": "text/x-python",
   "name": "python",
   "nbconvert_exporter": "python",
   "pygments_lexer": "ipython3",
   "version": "3.7.7"
  }
 },
 "nbformat": 4,
 "nbformat_minor": 4
}
