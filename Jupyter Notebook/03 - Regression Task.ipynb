{
 "cells": [
  {
   "cell_type": "markdown",
   "metadata": {},
   "source": [
    "# Regression Task\n",
    "\n",
    "In this notebook, the duration of bike trips is predicted with several prediction methods."
   ]
  },
  {
   "cell_type": "code",
   "execution_count": 1,
   "metadata": {},
   "outputs": [
    {
     "name": "stdout",
     "output_type": "stream",
     "text": [
      "Obtaining file:///C:/Users/meikh/Dropbox/Programming%20Data%20Science/PDS2020_Herber\n",
      "Requirement already satisfied: pandas in c:\\users\\meikh\\miniconda3\\envs\\pds_herber\\lib\\site-packages (from PDS2020-Herber==0.0.1) (1.0.3)\n",
      "Requirement already satisfied: sklearn in c:\\users\\meikh\\miniconda3\\envs\\pds_herber\\lib\\site-packages (from PDS2020-Herber==0.0.1) (0.0)\n",
      "Requirement already satisfied: keras in c:\\users\\meikh\\miniconda3\\envs\\pds_herber\\lib\\site-packages (from PDS2020-Herber==0.0.1) (2.3.1)\n",
      "Requirement already satisfied: click in c:\\users\\meikh\\miniconda3\\envs\\pds_herber\\lib\\site-packages (from PDS2020-Herber==0.0.1) (7.1.2)\n",
      "Requirement already satisfied: pytz>=2017.2 in c:\\users\\meikh\\miniconda3\\envs\\pds_herber\\lib\\site-packages (from pandas->PDS2020-Herber==0.0.1) (2020.1)\n",
      "Requirement already satisfied: python-dateutil>=2.6.1 in c:\\users\\meikh\\miniconda3\\envs\\pds_herber\\lib\\site-packages (from pandas->PDS2020-Herber==0.0.1) (2.8.1)\n",
      "Requirement already satisfied: numpy>=1.13.3 in c:\\users\\meikh\\miniconda3\\envs\\pds_herber\\lib\\site-packages (from pandas->PDS2020-Herber==0.0.1) (1.18.3)\n",
      "Requirement already satisfied: scikit-learn in c:\\users\\meikh\\miniconda3\\envs\\pds_herber\\lib\\site-packages (from sklearn->PDS2020-Herber==0.0.1) (0.22.2.post1)\n",
      "Requirement already satisfied: scipy>=0.14 in c:\\users\\meikh\\miniconda3\\envs\\pds_herber\\lib\\site-packages (from keras->PDS2020-Herber==0.0.1) (1.4.1)\n",
      "Requirement already satisfied: six>=1.9.0 in c:\\users\\meikh\\miniconda3\\envs\\pds_herber\\lib\\site-packages (from keras->PDS2020-Herber==0.0.1) (1.14.0)\n",
      "Requirement already satisfied: pyyaml in c:\\users\\meikh\\miniconda3\\envs\\pds_herber\\lib\\site-packages (from keras->PDS2020-Herber==0.0.1) (5.3.1)\n",
      "Requirement already satisfied: h5py in c:\\users\\meikh\\miniconda3\\envs\\pds_herber\\lib\\site-packages (from keras->PDS2020-Herber==0.0.1) (2.10.0)\n",
      "Requirement already satisfied: keras_applications>=1.0.6 in c:\\users\\meikh\\miniconda3\\envs\\pds_herber\\lib\\site-packages (from keras->PDS2020-Herber==0.0.1) (1.0.8)\n",
      "Requirement already satisfied: keras_preprocessing>=1.0.5 in c:\\users\\meikh\\miniconda3\\envs\\pds_herber\\lib\\site-packages (from keras->PDS2020-Herber==0.0.1) (1.1.0)\n",
      "Requirement already satisfied: joblib>=0.11 in c:\\users\\meikh\\miniconda3\\envs\\pds_herber\\lib\\site-packages (from scikit-learn->sklearn->PDS2020-Herber==0.0.1) (0.14.1)\n",
      "Installing collected packages: PDS2020-Herber\n",
      "  Attempting uninstall: PDS2020-Herber\n",
      "    Found existing installation: PDS2020-Herber 0.0.1\n",
      "    Uninstalling PDS2020-Herber-0.0.1:\n",
      "      Successfully uninstalled PDS2020-Herber-0.0.1\n",
      "  Running setup.py develop for PDS2020-Herber\n",
      "Successfully installed PDS2020-Herber\n"
     ]
    },
    {
     "name": "stderr",
     "output_type": "stream",
     "text": [
      "Using TensorFlow backend.\n"
     ]
    }
   ],
   "source": [
    "# Load the environment\n",
    "!pip install -e ..\n",
    "import nextbike as nb\n",
    "import warnings\n",
    "warnings.filterwarnings('ignore')"
   ]
  },
  {
   "cell_type": "code",
   "execution_count": 2,
   "metadata": {},
   "outputs": [],
   "source": [
    "# Load dataset, conduct train-test-split and standardize the input values\n",
    "x_train, x_test, x_train_scale, x_test_scale, y_train, y_test = nb.models.general.prepare_dataset()"
   ]
  },
  {
   "cell_type": "markdown",
   "metadata": {},
   "source": [
    "x_train_scale and x_test_scale are standardized transformations of x_train and x_test. As problems occured with the standardized datasets by using fractions of the whole dataset, the standardized datasets are only used when no fractioning takes place."
   ]
  },
  {
   "cell_type": "code",
   "execution_count": 3,
   "metadata": {
    "scrolled": true
   },
   "outputs": [
    {
     "name": "stdout",
     "output_type": "stream",
     "text": [
      "   Name   MSE CI_low CI_high  Time\n",
      "0  Mean  6407   6089    6725   0.0\n"
     ]
    }
   ],
   "source": [
    "nb.models.regression.modelling('Mean', x_train_scale, x_test_scale, y_train, y_test)"
   ]
  },
  {
   "cell_type": "markdown",
   "metadata": {},
   "source": [
    "The mean model predicts for every observation the mean of all durations. It is a reference model for the evaluation of the performance of the other predictive models. Applied to the test set, the mean model has a mean squared error of 6407 and a 95%-confidence interval ranging from 6089 to 6725."
   ]
  },
  {
   "cell_type": "markdown",
   "metadata": {},
   "source": [
    "I also implemented for every model the option to export it as a pickle file which is disabled by default."
   ]
  },
  {
   "cell_type": "code",
   "execution_count": 4,
   "metadata": {},
   "outputs": [
    {
     "name": "stdout",
     "output_type": "stream",
     "text": [
      "             Name   MSE  CI_low  CI_high      Time\n",
      "0  OLS_Regression  6035    5740     6329  0.674629\n",
      "1            Mean  6407    6089     6725  0.000000\n"
     ]
    }
   ],
   "source": [
    "nb.models.regression.modelling('OLS_Regression', x_train_scale, x_test_scale, y_train, y_test)"
   ]
  },
  {
   "cell_type": "markdown",
   "metadata": {},
   "source": [
    "Since the confidence of the OLS regression overlaps with the one of the mean model, it is not significantly better predicting than the mean model."
   ]
  },
  {
   "cell_type": "code",
   "execution_count": 6,
   "metadata": {},
   "outputs": [
    {
     "name": "stdout",
     "output_type": "stream",
     "text": [
      "{'algorithm': 'auto', 'leaf_size': 140, 'metric': 'minkowski', 'metric_params': None, 'n_jobs': None, 'n_neighbors': 34, 'p': 2, 'weights': 'uniform'} Time:  2171.2984414100647 seconds\n"
     ]
    }
   ],
   "source": [
    "nb.models.general.hyperparameter('KNN_Regression', fraction=0.5, x_train=x_train, y_train=y_train, \n",
    "                                 leaf_size=list(range(100,200)), n_neighbors=list(range(10,200)))"
   ]
  },
  {
   "cell_type": "markdown",
   "metadata": {},
   "source": [
    "This operation conducts a randomized search for the hyperparameters leaf size and n neighbors and outputs the hyperparameters of the best performing out of 100 models based on a 5-fold cross-validation. n neighbors stands for the number of nearest neighbors to be considered for every observation and the leaf size stands for how close the neighbors are that are checked by the algorithm."
   ]
  },
  {
   "cell_type": "markdown",
   "metadata": {},
   "source": [
    "Just a fraction of the training set is used in order to reduce processing time. Moreover, it would be more sophisticated to apply additionally a grid search around the hyperparameters found here and to input the optimized hyperparameters in the actual model."
   ]
  },
  {
   "cell_type": "code",
   "execution_count": 7,
   "metadata": {},
   "outputs": [
    {
     "name": "stdout",
     "output_type": "stream",
     "text": [
      "             Name   MSE  CI_low  CI_high        Time\n",
      "0  KNN_Regression  5947    5659     6234  146.013052\n",
      "1  OLS_Regression  6035    5740     6329    0.674629\n",
      "2            Mean  6407    6089     6725    0.000000\n"
     ]
    }
   ],
   "source": [
    "nb.models.regression.modelling('KNN_Regression', x_train_scale, x_test_scale, y_train, y_test, \n",
    "                               leaf_size=140, n_neighbors=34)"
   ]
  },
  {
   "cell_type": "markdown",
   "metadata": {},
   "source": [
    "The KNN regression does perform better than the OLS regression, but still not significantly better than the mean model."
   ]
  },
  {
   "cell_type": "code",
   "execution_count": 16,
   "metadata": {},
   "outputs": [
    {
     "name": "stdout",
     "output_type": "stream",
     "text": [
      "{'bootstrap': True, 'ccp_alpha': 0.0, 'criterion': 'mse', 'max_depth': None, 'max_features': 'auto', 'max_leaf_nodes': None, 'max_samples': None, 'min_impurity_decrease': 0.0, 'min_impurity_split': None, 'min_samples_leaf': 11, 'min_samples_split': 3, 'min_weight_fraction_leaf': 0.0, 'n_estimators': 39, 'n_jobs': None, 'oob_score': False, 'random_state': None, 'verbose': 0, 'warm_start': False} Time:  4991.5405921936035 seconds\n"
     ]
    }
   ],
   "source": [
    "nb.models.general.hyperparameter('Random_Forest_Regression', x_train=x_train, y_train=y_train, \n",
    "                                 n_estimators=list(range(10,50)), min_samples_split=list(range(2,15)), \n",
    "                                 min_samples_leaf=list(range(1,15)), fraction=0.25)"
   ]
  },
  {
   "cell_type": "markdown",
   "metadata": {},
   "source": [
    "With this operation the number of trees, the minimum observations required for splitting the node of a tree and the minimum number of observations required for the leaf of a tree are optimized for a random forest regressor."
   ]
  },
  {
   "cell_type": "code",
   "execution_count": 17,
   "metadata": {},
   "outputs": [
    {
     "name": "stdout",
     "output_type": "stream",
     "text": [
      "                       Name   MSE  CI_low  CI_high        Time\n",
      "0  Random_Forest_Regression  5079    4822     5336   84.472171\n",
      "1            KNN_Regression  5947    5659     6234  146.013052\n",
      "2            OLS_Regression  6035    5740     6329    0.674629\n",
      "3                      Mean  6407    6089     6725    0.000000\n"
     ]
    }
   ],
   "source": [
    "nb.models.regression.modelling('Random_Forest_Regression', x_train_scale, x_test_scale, y_train, y_test,\n",
    "                              n_estimators=39, min_samples_split=3, min_samples_leaf=11)"
   ]
  },
  {
   "cell_type": "markdown",
   "metadata": {},
   "source": [
    "The random forest regressor performs way better than the other models and also significantly better than the mean model."
   ]
  },
  {
   "cell_type": "code",
   "execution_count": 19,
   "metadata": {},
   "outputs": [
    {
     "name": "stdout",
     "output_type": "stream",
     "text": [
      "                       Name   MSE  CI_low  CI_high        Time\n",
      "0  Random_Forest_Regression  5079    4822     5336   84.472171\n",
      "1        Neural_Network_2hl  5656    5383     5930  189.244573\n",
      "2            KNN_Regression  5947    5659     6234  146.013052\n",
      "3            OLS_Regression  6035    5740     6329    0.674629\n",
      "4                      Mean  6407    6089     6725    0.000000\n"
     ]
    }
   ],
   "source": [
    "nb.models.regression.modelling('Neural_Network_2hl', x_train_scale, x_test_scale, y_train, y_test, \n",
    "                               layers=256, batch_size=16)"
   ]
  },
  {
   "cell_type": "markdown",
   "metadata": {},
   "source": [
    "Here, a neural network with two hidden layers is applied. The optimal number of layers and the batch size was optimized manually. It is the second best predictive of the four models behind the random forest regressor."
   ]
  },
  {
   "cell_type": "markdown",
   "metadata": {},
   "source": [
    "All in all, the random forest regressor is the best predictive out of four models. It has a mean squared error of 5079 and is therewith explaining 21% of the variance of the trip duration that is unexplained by the mean model. Its prediction deviates from the actual trip durattions in the test set on average by 71 minutes."
   ]
  },
  {
   "cell_type": "markdown",
   "metadata": {},
   "source": [
    "I could also have used principal component analysis to reduce the complexity of the models. In a more sophisticated modelling strategy and confronted with a larger dataset, I could have implemented a search for a trade-off between applying principal component analyses and utilizing fractions of the dataset for hyperparameter optimization and for modelling."
   ]
  },
  {
   "cell_type": "markdown",
   "metadata": {},
   "source": [
    "In addition, the python library includes a command that can be applied in a console which trains and exports a model. The default model is an OLS regression, but the other models can also be called instead as an option, however, only with their standard hyperparameters. "
   ]
  }
 ],
 "metadata": {
  "kernelspec": {
   "display_name": "Python 3",
   "language": "python",
   "name": "python3"
  },
  "language_info": {
   "codemirror_mode": {
    "name": "ipython",
    "version": 3
   },
   "file_extension": ".py",
   "mimetype": "text/x-python",
   "name": "python",
   "nbconvert_exporter": "python",
   "pygments_lexer": "ipython3",
   "version": "3.7.7"
  }
 },
 "nbformat": 4,
 "nbformat_minor": 4
}
