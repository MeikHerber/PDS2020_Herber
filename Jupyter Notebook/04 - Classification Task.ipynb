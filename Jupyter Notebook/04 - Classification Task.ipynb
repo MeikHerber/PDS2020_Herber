{
 "cells": [
  {
   "cell_type": "markdown",
   "metadata": {},
   "source": [
    "# Classification Task\n",
    "\n",
    "In this notebook, the direction of bike trips towards or away from the university is predicted with several prediction methods."
   ]
  },
  {
   "cell_type": "code",
   "execution_count": 1,
   "metadata": {},
   "outputs": [
    {
     "name": "stdout",
     "output_type": "stream",
     "text": [
      "Obtaining file:///C:/Users/meikh/Dropbox/Programming%20Data%20Science/PDS2020_Herber\n",
      "Requirement already satisfied: pandas in c:\\users\\meikh\\miniconda3\\envs\\pds_herber\\lib\\site-packages (from PDS2020-Herber==0.0.1) (1.0.3)\n",
      "Requirement already satisfied: sklearn in c:\\users\\meikh\\miniconda3\\envs\\pds_herber\\lib\\site-packages (from PDS2020-Herber==0.0.1) (0.0)\n",
      "Requirement already satisfied: keras in c:\\users\\meikh\\miniconda3\\envs\\pds_herber\\lib\\site-packages (from PDS2020-Herber==0.0.1) (2.3.1)\n",
      "Requirement already satisfied: click in c:\\users\\meikh\\miniconda3\\envs\\pds_herber\\lib\\site-packages (from PDS2020-Herber==0.0.1) (7.1.2)\n",
      "Requirement already satisfied: numpy>=1.13.3 in c:\\users\\meikh\\miniconda3\\envs\\pds_herber\\lib\\site-packages (from pandas->PDS2020-Herber==0.0.1) (1.18.3)\n",
      "Requirement already satisfied: python-dateutil>=2.6.1 in c:\\users\\meikh\\miniconda3\\envs\\pds_herber\\lib\\site-packages (from pandas->PDS2020-Herber==0.0.1) (2.8.1)\n",
      "Requirement already satisfied: pytz>=2017.2 in c:\\users\\meikh\\miniconda3\\envs\\pds_herber\\lib\\site-packages (from pandas->PDS2020-Herber==0.0.1) (2020.1)\n",
      "Requirement already satisfied: scikit-learn in c:\\users\\meikh\\miniconda3\\envs\\pds_herber\\lib\\site-packages (from sklearn->PDS2020-Herber==0.0.1) (0.22.2.post1)\n",
      "Requirement already satisfied: scipy>=0.14 in c:\\users\\meikh\\miniconda3\\envs\\pds_herber\\lib\\site-packages (from keras->PDS2020-Herber==0.0.1) (1.4.1)\n",
      "Requirement already satisfied: six>=1.9.0 in c:\\users\\meikh\\miniconda3\\envs\\pds_herber\\lib\\site-packages (from keras->PDS2020-Herber==0.0.1) (1.14.0)\n",
      "Requirement already satisfied: pyyaml in c:\\users\\meikh\\miniconda3\\envs\\pds_herber\\lib\\site-packages (from keras->PDS2020-Herber==0.0.1) (5.3.1)\n",
      "Requirement already satisfied: h5py in c:\\users\\meikh\\miniconda3\\envs\\pds_herber\\lib\\site-packages (from keras->PDS2020-Herber==0.0.1) (2.10.0)\n",
      "Requirement already satisfied: keras_applications>=1.0.6 in c:\\users\\meikh\\miniconda3\\envs\\pds_herber\\lib\\site-packages (from keras->PDS2020-Herber==0.0.1) (1.0.8)\n",
      "Requirement already satisfied: keras_preprocessing>=1.0.5 in c:\\users\\meikh\\miniconda3\\envs\\pds_herber\\lib\\site-packages (from keras->PDS2020-Herber==0.0.1) (1.1.0)\n",
      "Requirement already satisfied: joblib>=0.11 in c:\\users\\meikh\\miniconda3\\envs\\pds_herber\\lib\\site-packages (from scikit-learn->sklearn->PDS2020-Herber==0.0.1) (0.14.1)\n",
      "Installing collected packages: PDS2020-Herber\n",
      "  Attempting uninstall: PDS2020-Herber\n",
      "    Found existing installation: PDS2020-Herber 0.0.1\n",
      "    Uninstalling PDS2020-Herber-0.0.1:\n",
      "      Successfully uninstalled PDS2020-Herber-0.0.1\n",
      "  Running setup.py develop for PDS2020-Herber\n",
      "Successfully installed PDS2020-Herber\n"
     ]
    },
    {
     "name": "stderr",
     "output_type": "stream",
     "text": [
      "Using TensorFlow backend.\n"
     ]
    }
   ],
   "source": [
    "# Load the environment\n",
    "!pip install -e ..\n",
    "import nextbike as nb\n",
    "import warnings\n",
    "warnings.filterwarnings('ignore')"
   ]
  },
  {
   "cell_type": "code",
   "execution_count": 2,
   "metadata": {},
   "outputs": [],
   "source": [
    "# Load dataset, conduct train-test-split and standardize the input values\n",
    "x_train, x_test, x_train_scale, x_test_scale, y_train, y_test = nb.models.general.prepare_dataset('dortmund_preprocessed_classification', 'towards_uni')"
   ]
  },
  {
   "cell_type": "markdown",
   "metadata": {},
   "source": [
    "x_train_scale and x_test_scale are standardized transformations of x_train and x_test. As problems occured with the standardized datasets by using fractions of the whole dataset, the standardized datasets are only used when no fractioning takes place."
   ]
  },
  {
   "cell_type": "code",
   "execution_count": 3,
   "metadata": {},
   "outputs": [
    {
     "name": "stdout",
     "output_type": "stream",
     "text": [
      "   Name  Accuracy    CI_low  CI_high  Time\n",
      "0  Mean  0.698904  0.695567  0.70224   0.0\n"
     ]
    }
   ],
   "source": [
    "nb.models.classification.modelling('Mean', x_train_scale, x_test_scale, y_train, y_test)"
   ]
  },
  {
   "cell_type": "markdown",
   "metadata": {},
   "source": [
    "The mean model predicts for every observation the most likely outcome of all observations. It is a reference model for the evaluation of the performance of the other predictive models. Applied to the test set, the mean model has an accuracy of 69.9% and a 95%-confidence interval ranging from 69.6% to 70.2%."
   ]
  },
  {
   "cell_type": "markdown",
   "metadata": {},
   "source": [
    "I also implemented for every model the option to export it as a pickle file which is disabled by default."
   ]
  },
  {
   "cell_type": "code",
   "execution_count": 4,
   "metadata": {},
   "outputs": [
    {
     "name": "stdout",
     "output_type": "stream",
     "text": [
      "                  Name  Accuracy    CI_low   CI_high      Time\n",
      "0  Logistic_Regression  0.710595  0.707297  0.713894  2.727823\n",
      "1                 Mean  0.698904  0.695567  0.702240  0.000000\n"
     ]
    }
   ],
   "source": [
    "nb.models.classification.modelling('Logistic_Regression', x_train_scale, x_test_scale, y_train, y_test)"
   ]
  },
  {
   "cell_type": "markdown",
   "metadata": {},
   "source": [
    "Since the confidence of the logistic regression not overlaps with the one of the mean model, it is significantly better predicting than the mean model."
   ]
  },
  {
   "cell_type": "code",
   "execution_count": 11,
   "metadata": {},
   "outputs": [
    {
     "name": "stdout",
     "output_type": "stream",
     "text": [
      "{'algorithm': 'auto', 'leaf_size': 38, 'metric': 'minkowski', 'metric_params': None, 'n_jobs': None, 'n_neighbors': 134, 'p': 2, 'weights': 'uniform'} Time:  2437.5062384605408 seconds\n"
     ]
    }
   ],
   "source": [
    "nb.models.general.hyperparameter('KNN_Classification', fraction=0.5, x_train=x_train, y_train=y_train, \n",
    "                                 leaf_size=list(range(30,150)), n_neighbors=list(range(20,200)))"
   ]
  },
  {
   "cell_type": "markdown",
   "metadata": {},
   "source": [
    "This operation conducts a randomized search for the hyperparameters leaf size and n neighbors and outputs the hyperparameters of the best performing out of 100 models based on a 5-fold cross-validation. n neighbors stands for the number of nearest neighbors to be considered for every observation and the leaf size stands for how close the neighbors are that are checked by the algorithm."
   ]
  },
  {
   "cell_type": "markdown",
   "metadata": {},
   "source": [
    "Just a fraction of the training set is used in order to reduce processing time. Moreover, it would be more sophisticated to apply additionally a grid search around the hyperparameters found here and to input the optimized hyperparameters in the actual model."
   ]
  },
  {
   "cell_type": "code",
   "execution_count": 12,
   "metadata": {},
   "outputs": [
    {
     "name": "stdout",
     "output_type": "stream",
     "text": [
      "                  Name  Accuracy    CI_low   CI_high        Time\n",
      "0   KNN_Classification  0.719298  0.716030  0.722566  142.190417\n",
      "1  Logistic_Regression  0.710595  0.707297  0.713894    2.727823\n",
      "2                 Mean  0.698904  0.695567  0.702240    0.000000\n"
     ]
    }
   ],
   "source": [
    "nb.models.classification.modelling('KNN_Classification', x_train_scale, x_test_scale, y_train, y_test, \n",
    "                                   leaf_size=38, n_neighbors=134)"
   ]
  },
  {
   "cell_type": "markdown",
   "metadata": {},
   "source": [
    "The KNN classifier does perform better than the logistic regression."
   ]
  },
  {
   "cell_type": "code",
   "execution_count": 21,
   "metadata": {},
   "outputs": [
    {
     "name": "stdout",
     "output_type": "stream",
     "text": [
      "{'bootstrap': True, 'ccp_alpha': 0.0, 'class_weight': None, 'criterion': 'gini', 'max_depth': None, 'max_features': 'auto', 'max_leaf_nodes': None, 'max_samples': None, 'min_impurity_decrease': 0.0, 'min_impurity_split': None, 'min_samples_leaf': 1, 'min_samples_split': 9, 'min_weight_fraction_leaf': 0.0, 'n_estimators': 63, 'n_jobs': None, 'oob_score': False, 'random_state': None, 'verbose': 0, 'warm_start': False} Time:  5118.01823091507 seconds\n"
     ]
    }
   ],
   "source": [
    "nb.models.general.hyperparameter('Random_Forest_Classification', x_train=x_train_scale, y_train=y_train, \n",
    "                                 n_estimators=list(range(10,75)), min_samples_split=list(range(2,15)), \n",
    "                                 min_samples_leaf=list(range(1,15)))"
   ]
  },
  {
   "cell_type": "markdown",
   "metadata": {},
   "source": [
    "With this operation the number of trees, the minimum observations required for splitting the node of a tree and the minimum number of observations required for the leaf of a tree are optimized for a random forest classifier."
   ]
  },
  {
   "cell_type": "code",
   "execution_count": 22,
   "metadata": {},
   "outputs": [
    {
     "name": "stdout",
     "output_type": "stream",
     "text": [
      "                           Name  Accuracy    CI_low   CI_high        Time\n",
      "0  Random_Forest_Classification  0.776226  0.773195  0.779258   19.545172\n",
      "1            KNN_Classification  0.719298  0.716030  0.722566  142.190417\n",
      "2           Logistic_Regression  0.710595  0.707297  0.713894    2.727823\n",
      "3                          Mean  0.698904  0.695567  0.702240    0.000000\n"
     ]
    }
   ],
   "source": [
    "nb.models.classification.modelling('Random_Forest_Classification', x_train_scale, x_test_scale, y_train, y_test, \n",
    "                                   n_estimators=63, min_samples_split=9, min_samples_leaf=1)"
   ]
  },
  {
   "cell_type": "markdown",
   "metadata": {},
   "source": [
    "The random forest regressor performs way better than the other models."
   ]
  },
  {
   "cell_type": "code",
   "execution_count": 32,
   "metadata": {},
   "outputs": [
    {
     "name": "stdout",
     "output_type": "stream",
     "text": [
      "                           Name  Accuracy    CI_low   CI_high        Time\n",
      "0  Random_Forest_Classification  0.776226  0.773195  0.779258   19.545172\n",
      "1            Neural_Network_2hl  0.732353  0.729133  0.735573  176.658982\n",
      "2            KNN_Classification  0.719298  0.716030  0.722566  142.190417\n",
      "3           Logistic_Regression  0.710595  0.707297  0.713894    2.727823\n",
      "4                          Mean  0.698904  0.695567  0.702240    0.000000\n"
     ]
    }
   ],
   "source": [
    "nb.models.classification.modelling('Neural_Network_2hl', x_train_scale, x_test_scale, y_train, y_test, \n",
    "                               layers=256, batch_size=16)"
   ]
  },
  {
   "cell_type": "markdown",
   "metadata": {},
   "source": [
    "Here, a neural network with two hidden layers is applied. The optimal number of layers and the batch size was optimized manually. It is the second best predictive of the four models behind the random forest classifier."
   ]
  },
  {
   "cell_type": "markdown",
   "metadata": {},
   "source": [
    "All in all, the random forest classifier is the best predictive out of four models. It has an accuracy of 77.6% and is therewith correctly predicting 25.7% of the observations misspecified by the mean model."
   ]
  }
 ],
 "metadata": {
  "kernelspec": {
   "display_name": "Python 3",
   "language": "python",
   "name": "python3"
  },
  "language_info": {
   "codemirror_mode": {
    "name": "ipython",
    "version": 3
   },
   "file_extension": ".py",
   "mimetype": "text/x-python",
   "name": "python",
   "nbconvert_exporter": "python",
   "pygments_lexer": "ipython3",
   "version": "3.7.7"
  }
 },
 "nbformat": 4,
 "nbformat_minor": 4
}
